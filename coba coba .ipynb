{
 "cells": [
  {
   "cell_type": "markdown",
   "id": "343ad52e-735d-4586-9ce0-72abd65f3f5e",
   "metadata": {},
   "source": [
    "# Halo ini teks"
   ]
  },
  {
   "cell_type": "markdown",
   "id": "60233759-a5fe-4753-a8d5-c522c7a47a55",
   "metadata": {},
   "source": [
    "sdfjdifjsdifhsdf"
   ]
  },
  {
   "cell_type": "code",
   "execution_count": 9,
   "id": "d2ad7050-4252-4bd0-90e3-50bc1c8d826a",
   "metadata": {},
   "outputs": [
    {
     "data": {
      "text/plain": [
       "'jonson'"
      ]
     },
     "execution_count": 9,
     "metadata": {},
     "output_type": "execute_result"
    }
   ],
   "source": [
    "# shift + enter\n",
    "nama = \"alucard\"\n",
    "nama2 = 'jonson'\n",
    "\n",
    "nama2"
   ]
  },
  {
   "cell_type": "code",
   "execution_count": 5,
   "id": "2441e953-6fbb-46c6-8672-7e86fcc615c1",
   "metadata": {},
   "outputs": [
    {
     "data": {
      "text/plain": [
       "'alucard'"
      ]
     },
     "execution_count": 5,
     "metadata": {},
     "output_type": "execute_result"
    }
   ],
   "source": [
    "nama"
   ]
  },
  {
   "cell_type": "code",
   "execution_count": 6,
   "id": "98f26cca-51cc-43f2-9dfd-82e808f55ff6",
   "metadata": {},
   "outputs": [
    {
     "data": {
      "text/plain": [
       "5000"
      ]
     },
     "execution_count": 6,
     "metadata": {},
     "output_type": "execute_result"
    }
   ],
   "source": [
    "gold = 5000\n",
    "\n",
    "gold"
   ]
  },
  {
   "cell_type": "code",
   "execution_count": 10,
   "id": "37c0027a-545f-4ee4-8c9d-bad6dbe00418",
   "metadata": {},
   "outputs": [
    {
     "data": {
      "text/plain": [
       "'yss'"
      ]
     },
     "execution_count": 10,
     "metadata": {},
     "output_type": "execute_result"
    }
   ],
   "source": [
    "\"yss\""
   ]
  },
  {
   "cell_type": "code",
   "execution_count": 11,
   "id": "73211fe5-2ce4-4c7f-b11b-cf3589badc89",
   "metadata": {},
   "outputs": [
    {
     "name": "stdout",
     "output_type": "stream",
     "text": [
      "yss\n"
     ]
    }
   ],
   "source": [
    "print(\"yss\")"
   ]
  },
  {
   "cell_type": "code",
   "execution_count": 14,
   "id": "0bc7994f-fffa-4edb-b037-5c3f0ccaf67b",
   "metadata": {},
   "outputs": [
    {
     "name": "stdout",
     "output_type": "stream",
     "text": [
      "alucard\n",
      "5000\n",
      "alucard\n",
      "5000\n",
      "alucard\n",
      "5000\n"
     ]
    }
   ],
   "source": [
    "print(nama)\n",
    "print(gold)\n",
    "\n",
    "\n",
    "print(nama)\n",
    "print(gold)\n",
    "\n",
    "print(nama)\n",
    "print(gold)"
   ]
  },
  {
   "cell_type": "code",
   "execution_count": null,
   "id": "e566c7a4-74ec-48f5-85de-c1d18bfc6f7e",
   "metadata": {},
   "outputs": [],
   "source": []
  },
  {
   "cell_type": "code",
   "execution_count": null,
   "id": "4a4a5c8f-ce27-4283-85eb-e36445f56f55",
   "metadata": {},
   "outputs": [],
   "source": []
  }
 ],
 "metadata": {
  "kernelspec": {
   "display_name": "Python 3 (ipykernel)",
   "language": "python",
   "name": "python3"
  },
  "language_info": {
   "codemirror_mode": {
    "name": "ipython",
    "version": 3
   },
   "file_extension": ".py",
   "mimetype": "text/x-python",
   "name": "python",
   "nbconvert_exporter": "python",
   "pygments_lexer": "ipython3",
   "version": "3.9.7"
  }
 },
 "nbformat": 4,
 "nbformat_minor": 5
}
